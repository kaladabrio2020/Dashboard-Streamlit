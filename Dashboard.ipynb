{
 "cells": [
  {
   "cell_type": "code",
   "execution_count": 1,
   "metadata": {},
   "outputs": [],
   "source": [
    "import pandas as pd"
   ]
  },
  {
   "cell_type": "code",
   "execution_count": 2,
   "metadata": {},
   "outputs": [],
   "source": [
    "data = pd.read_csv(r'dataset/UFC.csv',sep=',',encoding='latin')"
   ]
  },
  {
   "cell_type": "code",
   "execution_count": 3,
   "metadata": {},
   "outputs": [
    {
     "data": {
      "text/html": [
       "<div>\n",
       "<style scoped>\n",
       "    .dataframe tbody tr th:only-of-type {\n",
       "        vertical-align: middle;\n",
       "    }\n",
       "\n",
       "    .dataframe tbody tr th {\n",
       "        vertical-align: top;\n",
       "    }\n",
       "\n",
       "    .dataframe thead th {\n",
       "        text-align: right;\n",
       "    }\n",
       "</style>\n",
       "<table border=\"1\" class=\"dataframe\">\n",
       "  <thead>\n",
       "    <tr style=\"text-align: right;\">\n",
       "      <th></th>\n",
       "      <th>matricula</th>\n",
       "      <th>sexo</th>\n",
       "      <th>codigo_inep</th>\n",
       "      <th>nome_curso</th>\n",
       "      <th>nome_unidade</th>\n",
       "      <th>forma_ingresso</th>\n",
       "      <th>ano_ingresso</th>\n",
       "      <th>periodo_ingresso</th>\n",
       "      <th>modalidade_considerada</th>\n",
       "      <th>status</th>\n",
       "      <th>ano_saida</th>\n",
       "      <th>periodo_saida</th>\n",
       "    </tr>\n",
       "  </thead>\n",
       "  <tbody>\n",
       "    <tr>\n",
       "      <th>0</th>\n",
       "      <td>494679</td>\n",
       "      <td>M</td>\n",
       "      <td>1272079.0</td>\n",
       "      <td>CIÊNCIA DA COMPUTAÇÃO</td>\n",
       "      <td>CAMPUS DA UFC DE CRATEÚS</td>\n",
       "      <td>SELEÇÃO SISU</td>\n",
       "      <td>2020</td>\n",
       "      <td>1</td>\n",
       "      <td>L2</td>\n",
       "      <td>CANCELADO</td>\n",
       "      <td>2020</td>\n",
       "      <td>2</td>\n",
       "    </tr>\n",
       "    <tr>\n",
       "      <th>1</th>\n",
       "      <td>400857</td>\n",
       "      <td>M</td>\n",
       "      <td>1272079.0</td>\n",
       "      <td>CIÊNCIA DA COMPUTAÇÃO</td>\n",
       "      <td>CAMPUS DA UFC DE CRATEÚS</td>\n",
       "      <td>SELEÇÃO SISU</td>\n",
       "      <td>2017</td>\n",
       "      <td>1</td>\n",
       "      <td>L2</td>\n",
       "      <td>CANCELADO</td>\n",
       "      <td>2018</td>\n",
       "      <td>1</td>\n",
       "    </tr>\n",
       "    <tr>\n",
       "      <th>2</th>\n",
       "      <td>400945</td>\n",
       "      <td>M</td>\n",
       "      <td>1272079.0</td>\n",
       "      <td>CIÊNCIA DA COMPUTAÇÃO</td>\n",
       "      <td>CAMPUS DA UFC DE CRATEÚS</td>\n",
       "      <td>SELEÇÃO SISU</td>\n",
       "      <td>2017</td>\n",
       "      <td>1</td>\n",
       "      <td>L2</td>\n",
       "      <td>CANCELADO</td>\n",
       "      <td>2020</td>\n",
       "      <td>1</td>\n",
       "    </tr>\n",
       "    <tr>\n",
       "      <th>3</th>\n",
       "      <td>397504</td>\n",
       "      <td>M</td>\n",
       "      <td>1272079.0</td>\n",
       "      <td>CIÊNCIA DA COMPUTAÇÃO</td>\n",
       "      <td>CAMPUS DA UFC DE CRATEÚS</td>\n",
       "      <td>SELEÇÃO SISU</td>\n",
       "      <td>2017</td>\n",
       "      <td>1</td>\n",
       "      <td>L6</td>\n",
       "      <td>CANCELADO</td>\n",
       "      <td>2022</td>\n",
       "      <td>1</td>\n",
       "    </tr>\n",
       "    <tr>\n",
       "      <th>4</th>\n",
       "      <td>403967</td>\n",
       "      <td>M</td>\n",
       "      <td>1272079.0</td>\n",
       "      <td>CIÊNCIA DA COMPUTAÇÃO</td>\n",
       "      <td>CAMPUS DA UFC DE CRATEÚS</td>\n",
       "      <td>SELEÇÃO SISU</td>\n",
       "      <td>2017</td>\n",
       "      <td>1</td>\n",
       "      <td>AC</td>\n",
       "      <td>CANCELADO</td>\n",
       "      <td>2019</td>\n",
       "      <td>1</td>\n",
       "    </tr>\n",
       "    <tr>\n",
       "      <th>...</th>\n",
       "      <td>...</td>\n",
       "      <td>...</td>\n",
       "      <td>...</td>\n",
       "      <td>...</td>\n",
       "      <td>...</td>\n",
       "      <td>...</td>\n",
       "      <td>...</td>\n",
       "      <td>...</td>\n",
       "      <td>...</td>\n",
       "      <td>...</td>\n",
       "      <td>...</td>\n",
       "      <td>...</td>\n",
       "    </tr>\n",
       "    <tr>\n",
       "      <th>235121</th>\n",
       "      <td>275325</td>\n",
       "      <td>M</td>\n",
       "      <td>94359.0</td>\n",
       "      <td>TECNOLOGIA EM GESTÃO DE HOSPITAIS UNIVERSITÁRIOS</td>\n",
       "      <td>PRÓ - REITORIA DE GRADUAÇÃO</td>\n",
       "      <td>VESTIBULAR</td>\n",
       "      <td>2005</td>\n",
       "      <td>2</td>\n",
       "      <td></td>\n",
       "      <td>CONCLUÍDO</td>\n",
       "      <td>2007</td>\n",
       "      <td>2</td>\n",
       "    </tr>\n",
       "    <tr>\n",
       "      <th>235122</th>\n",
       "      <td>275267</td>\n",
       "      <td>M</td>\n",
       "      <td>94359.0</td>\n",
       "      <td>TECNOLOGIA EM GESTÃO DE HOSPITAIS UNIVERSITÁRIOS</td>\n",
       "      <td>PRÓ - REITORIA DE GRADUAÇÃO</td>\n",
       "      <td>VESTIBULAR</td>\n",
       "      <td>2005</td>\n",
       "      <td>2</td>\n",
       "      <td></td>\n",
       "      <td>CONCLUÍDO</td>\n",
       "      <td>2007</td>\n",
       "      <td>2</td>\n",
       "    </tr>\n",
       "    <tr>\n",
       "      <th>235123</th>\n",
       "      <td>275341</td>\n",
       "      <td>M</td>\n",
       "      <td>94359.0</td>\n",
       "      <td>TECNOLOGIA EM GESTÃO DE HOSPITAIS UNIVERSITÁRIOS</td>\n",
       "      <td>PRÓ - REITORIA DE GRADUAÇÃO</td>\n",
       "      <td>VESTIBULAR</td>\n",
       "      <td>2005</td>\n",
       "      <td>2</td>\n",
       "      <td></td>\n",
       "      <td>CONCLUÍDO</td>\n",
       "      <td>2007</td>\n",
       "      <td>2</td>\n",
       "    </tr>\n",
       "    <tr>\n",
       "      <th>235124</th>\n",
       "      <td>275337</td>\n",
       "      <td>F</td>\n",
       "      <td>94359.0</td>\n",
       "      <td>TECNOLOGIA EM GESTÃO DE HOSPITAIS UNIVERSITÁRIOS</td>\n",
       "      <td>PRÓ - REITORIA DE GRADUAÇÃO</td>\n",
       "      <td>VESTIBULAR</td>\n",
       "      <td>2005</td>\n",
       "      <td>2</td>\n",
       "      <td></td>\n",
       "      <td>CANCELADO</td>\n",
       "      <td>2008</td>\n",
       "      <td>1</td>\n",
       "    </tr>\n",
       "    <tr>\n",
       "      <th>235125</th>\n",
       "      <td>275297</td>\n",
       "      <td>M</td>\n",
       "      <td>94359.0</td>\n",
       "      <td>TECNOLOGIA EM GESTÃO DE HOSPITAIS UNIVERSITÁRIOS</td>\n",
       "      <td>PRÓ - REITORIA DE GRADUAÇÃO</td>\n",
       "      <td>VESTIBULAR</td>\n",
       "      <td>2005</td>\n",
       "      <td>2</td>\n",
       "      <td></td>\n",
       "      <td>CONCLUÍDO</td>\n",
       "      <td>2007</td>\n",
       "      <td>2</td>\n",
       "    </tr>\n",
       "  </tbody>\n",
       "</table>\n",
       "<p>235126 rows × 12 columns</p>\n",
       "</div>"
      ],
      "text/plain": [
       "        matricula sexo  codigo_inep  \\\n",
       "0          494679    M    1272079.0   \n",
       "1          400857    M    1272079.0   \n",
       "2          400945    M    1272079.0   \n",
       "3          397504    M    1272079.0   \n",
       "4          403967    M    1272079.0   \n",
       "...           ...  ...          ...   \n",
       "235121     275325    M      94359.0   \n",
       "235122     275267    M      94359.0   \n",
       "235123     275341    M      94359.0   \n",
       "235124     275337    F      94359.0   \n",
       "235125     275297    M      94359.0   \n",
       "\n",
       "                                              nome_curso  \\\n",
       "0                                  CIÊNCIA DA COMPUTAÇÃO   \n",
       "1                                  CIÊNCIA DA COMPUTAÇÃO   \n",
       "2                                  CIÊNCIA DA COMPUTAÇÃO   \n",
       "3                                  CIÊNCIA DA COMPUTAÇÃO   \n",
       "4                                  CIÊNCIA DA COMPUTAÇÃO   \n",
       "...                                                  ...   \n",
       "235121  TECNOLOGIA EM GESTÃO DE HOSPITAIS UNIVERSITÁRIOS   \n",
       "235122  TECNOLOGIA EM GESTÃO DE HOSPITAIS UNIVERSITÁRIOS   \n",
       "235123  TECNOLOGIA EM GESTÃO DE HOSPITAIS UNIVERSITÁRIOS   \n",
       "235124  TECNOLOGIA EM GESTÃO DE HOSPITAIS UNIVERSITÁRIOS   \n",
       "235125  TECNOLOGIA EM GESTÃO DE HOSPITAIS UNIVERSITÁRIOS   \n",
       "\n",
       "                       nome_unidade forma_ingresso  ano_ingresso  \\\n",
       "0          CAMPUS DA UFC DE CRATEÚS   SELEÇÃO SISU          2020   \n",
       "1          CAMPUS DA UFC DE CRATEÚS   SELEÇÃO SISU          2017   \n",
       "2          CAMPUS DA UFC DE CRATEÚS   SELEÇÃO SISU          2017   \n",
       "3          CAMPUS DA UFC DE CRATEÚS   SELEÇÃO SISU          2017   \n",
       "4          CAMPUS DA UFC DE CRATEÚS   SELEÇÃO SISU          2017   \n",
       "...                             ...            ...           ...   \n",
       "235121  PRÓ - REITORIA DE GRADUAÇÃO     VESTIBULAR          2005   \n",
       "235122  PRÓ - REITORIA DE GRADUAÇÃO     VESTIBULAR          2005   \n",
       "235123  PRÓ - REITORIA DE GRADUAÇÃO     VESTIBULAR          2005   \n",
       "235124  PRÓ - REITORIA DE GRADUAÇÃO     VESTIBULAR          2005   \n",
       "235125  PRÓ - REITORIA DE GRADUAÇÃO     VESTIBULAR          2005   \n",
       "\n",
       "        periodo_ingresso modalidade_considerada     status ano_saida  \\\n",
       "0                      1                     L2  CANCELADO      2020   \n",
       "1                      1                     L2  CANCELADO      2018   \n",
       "2                      1                     L2  CANCELADO      2020   \n",
       "3                      1                     L6  CANCELADO      2022   \n",
       "4                      1                     AC  CANCELADO      2019   \n",
       "...                  ...                    ...        ...       ...   \n",
       "235121                 2                         CONCLUÍDO      2007   \n",
       "235122                 2                         CONCLUÍDO      2007   \n",
       "235123                 2                         CONCLUÍDO      2007   \n",
       "235124                 2                         CANCELADO      2008   \n",
       "235125                 2                         CONCLUÍDO      2007   \n",
       "\n",
       "       periodo_saida  \n",
       "0                  2  \n",
       "1                  1  \n",
       "2                  1  \n",
       "3                  1  \n",
       "4                  1  \n",
       "...              ...  \n",
       "235121             2  \n",
       "235122             2  \n",
       "235123             2  \n",
       "235124             1  \n",
       "235125             2  \n",
       "\n",
       "[235126 rows x 12 columns]"
      ]
     },
     "execution_count": 3,
     "metadata": {},
     "output_type": "execute_result"
    }
   ],
   "source": [
    "data"
   ]
  },
  {
   "cell_type": "code",
   "execution_count": 4,
   "metadata": {},
   "outputs": [
    {
     "data": {
      "text/plain": [
       "['CENTRO DE CIÊNCIAS',\n",
       " 'CENTRO DE HUMANIDADES',\n",
       " 'CENTRO DE TECNOLOGIA',\n",
       " 'FACULDADE DE ECONOMIA ADMINISTRAÇÃO ATUARIA E CONTABILIDADE',\n",
       " 'CENTRO DE CIÊNCIAS AGRÁRIAS',\n",
       " 'FACULDADE DE FARMÁCIA ODONTOLOGIA E ENFERMAGEM',\n",
       " 'INSTITUTO UNIVERSIDADE VIRTUAL',\n",
       " 'FACULDADE DE DIREITO',\n",
       " 'INSTITUTO DE CULTURA E ARTE',\n",
       " 'FACULDADE DE EDUCAÇÃO',\n",
       " 'CAMPUS DA UFC EM SOBRAL',\n",
       " 'FACULDADE DE MEDICINA',\n",
       " 'CAMPUS DA UFC NO CARIRI',\n",
       " 'CAMPUS DA UFC EM QUIXADÁ',\n",
       " 'INSTITUTO DE EDUCAÇÃO FÍSICA E ESPORTES',\n",
       " 'CAMPUS DA UFC DE RUSSAS',\n",
       " 'CAMPUS DA UFC DE CRATEÚS',\n",
       " 'INSTITUTO DE CIÊNCIAS DO MAR',\n",
       " 'PRÓ - REITORIA DE GRADUAÇÃO',\n",
       " 'CAMPUS DA UFC DE ITAPAJÉ',\n",
       " '_FACULDADE DE DIREITO - DIRETORIA']"
      ]
     },
     "execution_count": 4,
     "metadata": {},
     "output_type": "execute_result"
    }
   ],
   "source": [
    "data['nome_unidade'].value_counts().index.to_list()"
   ]
  },
  {
   "cell_type": "code",
   "execution_count": 5,
   "metadata": {},
   "outputs": [
    {
     "data": {
      "text/html": [
       "<div>\n",
       "<style scoped>\n",
       "    .dataframe tbody tr th:only-of-type {\n",
       "        vertical-align: middle;\n",
       "    }\n",
       "\n",
       "    .dataframe tbody tr th {\n",
       "        vertical-align: top;\n",
       "    }\n",
       "\n",
       "    .dataframe thead th {\n",
       "        text-align: right;\n",
       "    }\n",
       "</style>\n",
       "<table border=\"1\" class=\"dataframe\">\n",
       "  <thead>\n",
       "    <tr style=\"text-align: right;\">\n",
       "      <th></th>\n",
       "      <th>matricula</th>\n",
       "      <th>sexo</th>\n",
       "      <th>codigo_inep</th>\n",
       "      <th>nome_unidade</th>\n",
       "      <th>forma_ingresso</th>\n",
       "      <th>ano_ingresso</th>\n",
       "      <th>periodo_ingresso</th>\n",
       "      <th>modalidade_considerada</th>\n",
       "      <th>status</th>\n",
       "      <th>ano_saida</th>\n",
       "      <th>periodo_saida</th>\n",
       "    </tr>\n",
       "    <tr>\n",
       "      <th>nome_curso</th>\n",
       "      <th></th>\n",
       "      <th></th>\n",
       "      <th></th>\n",
       "      <th></th>\n",
       "      <th></th>\n",
       "      <th></th>\n",
       "      <th></th>\n",
       "      <th></th>\n",
       "      <th></th>\n",
       "      <th></th>\n",
       "      <th></th>\n",
       "    </tr>\n",
       "  </thead>\n",
       "  <tbody>\n",
       "    <tr>\n",
       "      <th>CIÊNCIA DA COMPUTAÇÃO</th>\n",
       "      <td>64</td>\n",
       "      <td>64</td>\n",
       "      <td>64</td>\n",
       "      <td>64</td>\n",
       "      <td>64</td>\n",
       "      <td>64</td>\n",
       "      <td>64</td>\n",
       "      <td>64</td>\n",
       "      <td>64</td>\n",
       "      <td>64</td>\n",
       "      <td>64</td>\n",
       "    </tr>\n",
       "    <tr>\n",
       "      <th>ENGENHARIA CIVIL</th>\n",
       "      <td>32</td>\n",
       "      <td>32</td>\n",
       "      <td>32</td>\n",
       "      <td>32</td>\n",
       "      <td>32</td>\n",
       "      <td>32</td>\n",
       "      <td>32</td>\n",
       "      <td>32</td>\n",
       "      <td>32</td>\n",
       "      <td>32</td>\n",
       "      <td>32</td>\n",
       "    </tr>\n",
       "    <tr>\n",
       "      <th>ENGENHARIA DE PRODUÇÃO</th>\n",
       "      <td>28</td>\n",
       "      <td>28</td>\n",
       "      <td>28</td>\n",
       "      <td>28</td>\n",
       "      <td>28</td>\n",
       "      <td>28</td>\n",
       "      <td>28</td>\n",
       "      <td>28</td>\n",
       "      <td>28</td>\n",
       "      <td>28</td>\n",
       "      <td>28</td>\n",
       "    </tr>\n",
       "    <tr>\n",
       "      <th>ENGENHARIA DE SOFTWARE</th>\n",
       "      <td>56</td>\n",
       "      <td>56</td>\n",
       "      <td>56</td>\n",
       "      <td>56</td>\n",
       "      <td>56</td>\n",
       "      <td>56</td>\n",
       "      <td>56</td>\n",
       "      <td>56</td>\n",
       "      <td>56</td>\n",
       "      <td>56</td>\n",
       "      <td>56</td>\n",
       "    </tr>\n",
       "    <tr>\n",
       "      <th>ENGENHARIA MECÂNICA</th>\n",
       "      <td>28</td>\n",
       "      <td>28</td>\n",
       "      <td>28</td>\n",
       "      <td>28</td>\n",
       "      <td>28</td>\n",
       "      <td>28</td>\n",
       "      <td>28</td>\n",
       "      <td>28</td>\n",
       "      <td>28</td>\n",
       "      <td>28</td>\n",
       "      <td>28</td>\n",
       "    </tr>\n",
       "  </tbody>\n",
       "</table>\n",
       "</div>"
      ],
      "text/plain": [
       "                        matricula  sexo  codigo_inep  nome_unidade  \\\n",
       "nome_curso                                                           \n",
       "CIÊNCIA DA COMPUTAÇÃO          64    64           64            64   \n",
       "ENGENHARIA CIVIL               32    32           32            32   \n",
       "ENGENHARIA DE PRODUÇÃO         28    28           28            28   \n",
       "ENGENHARIA DE SOFTWARE         56    56           56            56   \n",
       "ENGENHARIA MECÂNICA            28    28           28            28   \n",
       "\n",
       "                        forma_ingresso  ano_ingresso  periodo_ingresso  \\\n",
       "nome_curso                                                               \n",
       "CIÊNCIA DA COMPUTAÇÃO               64            64                64   \n",
       "ENGENHARIA CIVIL                    32            32                32   \n",
       "ENGENHARIA DE PRODUÇÃO              28            28                28   \n",
       "ENGENHARIA DE SOFTWARE              56            56                56   \n",
       "ENGENHARIA MECÂNICA                 28            28                28   \n",
       "\n",
       "                        modalidade_considerada  status  ano_saida  \\\n",
       "nome_curso                                                          \n",
       "CIÊNCIA DA COMPUTAÇÃO                       64      64         64   \n",
       "ENGENHARIA CIVIL                            32      32         32   \n",
       "ENGENHARIA DE PRODUÇÃO                      28      28         28   \n",
       "ENGENHARIA DE SOFTWARE                      56      56         56   \n",
       "ENGENHARIA MECÂNICA                         28      28         28   \n",
       "\n",
       "                        periodo_saida  \n",
       "nome_curso                             \n",
       "CIÊNCIA DA COMPUTAÇÃO              64  \n",
       "ENGENHARIA CIVIL                   32  \n",
       "ENGENHARIA DE PRODUÇÃO             28  \n",
       "ENGENHARIA DE SOFTWARE             56  \n",
       "ENGENHARIA MECÂNICA                28  "
      ]
     },
     "execution_count": 5,
     "metadata": {},
     "output_type": "execute_result"
    }
   ],
   "source": [
    "DataS = data.loc[\n",
    "    (data['ano_saida']=='2020') &\n",
    "    (data['nome_unidade'] == 'CAMPUS DA UFC DE RUSSAS') &\n",
    "    (data['status'] == 'CANCELADO')\n",
    "    ]\n",
    "\n",
    "DataS.groupby(\n",
    "    by='nome_curso'\n",
    ").count()"
   ]
  },
  {
   "cell_type": "code",
   "execution_count": 6,
   "metadata": {},
   "outputs": [
    {
     "data": {
      "text/html": [
       "<div>\n",
       "<style scoped>\n",
       "    .dataframe tbody tr th:only-of-type {\n",
       "        vertical-align: middle;\n",
       "    }\n",
       "\n",
       "    .dataframe tbody tr th {\n",
       "        vertical-align: top;\n",
       "    }\n",
       "\n",
       "    .dataframe thead th {\n",
       "        text-align: right;\n",
       "    }\n",
       "</style>\n",
       "<table border=\"1\" class=\"dataframe\">\n",
       "  <thead>\n",
       "    <tr style=\"text-align: right;\">\n",
       "      <th></th>\n",
       "      <th>nome_curso</th>\n",
       "      <th>sexo</th>\n",
       "      <th>matricula</th>\n",
       "      <th>codigo_inep</th>\n",
       "      <th>nome_unidade</th>\n",
       "      <th>forma_ingresso</th>\n",
       "      <th>ano_ingresso</th>\n",
       "      <th>periodo_ingresso</th>\n",
       "      <th>modalidade_considerada</th>\n",
       "      <th>status</th>\n",
       "      <th>ano_saida</th>\n",
       "      <th>periodo_saida</th>\n",
       "    </tr>\n",
       "  </thead>\n",
       "  <tbody>\n",
       "    <tr>\n",
       "      <th>0</th>\n",
       "      <td>CIÊNCIA DA COMPUTAÇÃO</td>\n",
       "      <td>F</td>\n",
       "      <td>12</td>\n",
       "      <td>12</td>\n",
       "      <td>12</td>\n",
       "      <td>12</td>\n",
       "      <td>12</td>\n",
       "      <td>12</td>\n",
       "      <td>12</td>\n",
       "      <td>12</td>\n",
       "      <td>12</td>\n",
       "      <td>12</td>\n",
       "    </tr>\n",
       "    <tr>\n",
       "      <th>1</th>\n",
       "      <td>CIÊNCIA DA COMPUTAÇÃO</td>\n",
       "      <td>M</td>\n",
       "      <td>52</td>\n",
       "      <td>52</td>\n",
       "      <td>52</td>\n",
       "      <td>52</td>\n",
       "      <td>52</td>\n",
       "      <td>52</td>\n",
       "      <td>52</td>\n",
       "      <td>52</td>\n",
       "      <td>52</td>\n",
       "      <td>52</td>\n",
       "    </tr>\n",
       "    <tr>\n",
       "      <th>2</th>\n",
       "      <td>ENGENHARIA CIVIL</td>\n",
       "      <td>F</td>\n",
       "      <td>7</td>\n",
       "      <td>7</td>\n",
       "      <td>7</td>\n",
       "      <td>7</td>\n",
       "      <td>7</td>\n",
       "      <td>7</td>\n",
       "      <td>7</td>\n",
       "      <td>7</td>\n",
       "      <td>7</td>\n",
       "      <td>7</td>\n",
       "    </tr>\n",
       "    <tr>\n",
       "      <th>3</th>\n",
       "      <td>ENGENHARIA CIVIL</td>\n",
       "      <td>M</td>\n",
       "      <td>25</td>\n",
       "      <td>25</td>\n",
       "      <td>25</td>\n",
       "      <td>25</td>\n",
       "      <td>25</td>\n",
       "      <td>25</td>\n",
       "      <td>25</td>\n",
       "      <td>25</td>\n",
       "      <td>25</td>\n",
       "      <td>25</td>\n",
       "    </tr>\n",
       "    <tr>\n",
       "      <th>4</th>\n",
       "      <td>ENGENHARIA DE PRODUÇÃO</td>\n",
       "      <td>F</td>\n",
       "      <td>10</td>\n",
       "      <td>10</td>\n",
       "      <td>10</td>\n",
       "      <td>10</td>\n",
       "      <td>10</td>\n",
       "      <td>10</td>\n",
       "      <td>10</td>\n",
       "      <td>10</td>\n",
       "      <td>10</td>\n",
       "      <td>10</td>\n",
       "    </tr>\n",
       "    <tr>\n",
       "      <th>5</th>\n",
       "      <td>ENGENHARIA DE PRODUÇÃO</td>\n",
       "      <td>M</td>\n",
       "      <td>18</td>\n",
       "      <td>18</td>\n",
       "      <td>18</td>\n",
       "      <td>18</td>\n",
       "      <td>18</td>\n",
       "      <td>18</td>\n",
       "      <td>18</td>\n",
       "      <td>18</td>\n",
       "      <td>18</td>\n",
       "      <td>18</td>\n",
       "    </tr>\n",
       "    <tr>\n",
       "      <th>6</th>\n",
       "      <td>ENGENHARIA DE SOFTWARE</td>\n",
       "      <td>F</td>\n",
       "      <td>18</td>\n",
       "      <td>18</td>\n",
       "      <td>18</td>\n",
       "      <td>18</td>\n",
       "      <td>18</td>\n",
       "      <td>18</td>\n",
       "      <td>18</td>\n",
       "      <td>18</td>\n",
       "      <td>18</td>\n",
       "      <td>18</td>\n",
       "    </tr>\n",
       "    <tr>\n",
       "      <th>7</th>\n",
       "      <td>ENGENHARIA DE SOFTWARE</td>\n",
       "      <td>M</td>\n",
       "      <td>38</td>\n",
       "      <td>38</td>\n",
       "      <td>38</td>\n",
       "      <td>38</td>\n",
       "      <td>38</td>\n",
       "      <td>38</td>\n",
       "      <td>38</td>\n",
       "      <td>38</td>\n",
       "      <td>38</td>\n",
       "      <td>38</td>\n",
       "    </tr>\n",
       "    <tr>\n",
       "      <th>8</th>\n",
       "      <td>ENGENHARIA MECÂNICA</td>\n",
       "      <td>F</td>\n",
       "      <td>2</td>\n",
       "      <td>2</td>\n",
       "      <td>2</td>\n",
       "      <td>2</td>\n",
       "      <td>2</td>\n",
       "      <td>2</td>\n",
       "      <td>2</td>\n",
       "      <td>2</td>\n",
       "      <td>2</td>\n",
       "      <td>2</td>\n",
       "    </tr>\n",
       "    <tr>\n",
       "      <th>9</th>\n",
       "      <td>ENGENHARIA MECÂNICA</td>\n",
       "      <td>M</td>\n",
       "      <td>26</td>\n",
       "      <td>26</td>\n",
       "      <td>26</td>\n",
       "      <td>26</td>\n",
       "      <td>26</td>\n",
       "      <td>26</td>\n",
       "      <td>26</td>\n",
       "      <td>26</td>\n",
       "      <td>26</td>\n",
       "      <td>26</td>\n",
       "    </tr>\n",
       "  </tbody>\n",
       "</table>\n",
       "</div>"
      ],
      "text/plain": [
       "               nome_curso sexo  matricula  codigo_inep  nome_unidade  \\\n",
       "0   CIÊNCIA DA COMPUTAÇÃO    F         12           12            12   \n",
       "1   CIÊNCIA DA COMPUTAÇÃO    M         52           52            52   \n",
       "2        ENGENHARIA CIVIL    F          7            7             7   \n",
       "3        ENGENHARIA CIVIL    M         25           25            25   \n",
       "4  ENGENHARIA DE PRODUÇÃO    F         10           10            10   \n",
       "5  ENGENHARIA DE PRODUÇÃO    M         18           18            18   \n",
       "6  ENGENHARIA DE SOFTWARE    F         18           18            18   \n",
       "7  ENGENHARIA DE SOFTWARE    M         38           38            38   \n",
       "8     ENGENHARIA MECÂNICA    F          2            2             2   \n",
       "9     ENGENHARIA MECÂNICA    M         26           26            26   \n",
       "\n",
       "   forma_ingresso  ano_ingresso  periodo_ingresso  modalidade_considerada  \\\n",
       "0              12            12                12                      12   \n",
       "1              52            52                52                      52   \n",
       "2               7             7                 7                       7   \n",
       "3              25            25                25                      25   \n",
       "4              10            10                10                      10   \n",
       "5              18            18                18                      18   \n",
       "6              18            18                18                      18   \n",
       "7              38            38                38                      38   \n",
       "8               2             2                 2                       2   \n",
       "9              26            26                26                      26   \n",
       "\n",
       "   status  ano_saida  periodo_saida  \n",
       "0      12         12             12  \n",
       "1      52         52             52  \n",
       "2       7          7              7  \n",
       "3      25         25             25  \n",
       "4      10         10             10  \n",
       "5      18         18             18  \n",
       "6      18         18             18  \n",
       "7      38         38             38  \n",
       "8       2          2              2  \n",
       "9      26         26             26  "
      ]
     },
     "execution_count": 6,
     "metadata": {},
     "output_type": "execute_result"
    }
   ],
   "source": [
    "DataS = data.loc[\n",
    "    (data['ano_saida']=='2020') &\n",
    "    (data['nome_unidade'] == 'CAMPUS DA UFC DE RUSSAS') &\n",
    "    (data['status'] == 'CANCELADO')\n",
    "    ]\n",
    "\n",
    "DataS.groupby(\n",
    "    by=['nome_curso','sexo']\n",
    ").count().reset_index()"
   ]
  },
  {
   "cell_type": "code",
   "execution_count": 7,
   "metadata": {},
   "outputs": [
    {
     "data": {
      "text/html": [
       "<div>\n",
       "<style scoped>\n",
       "    .dataframe tbody tr th:only-of-type {\n",
       "        vertical-align: middle;\n",
       "    }\n",
       "\n",
       "    .dataframe tbody tr th {\n",
       "        vertical-align: top;\n",
       "    }\n",
       "\n",
       "    .dataframe thead th {\n",
       "        text-align: right;\n",
       "    }\n",
       "</style>\n",
       "<table border=\"1\" class=\"dataframe\">\n",
       "  <thead>\n",
       "    <tr style=\"text-align: right;\">\n",
       "      <th></th>\n",
       "      <th>nome_curso</th>\n",
       "      <th>sexo</th>\n",
       "      <th>status</th>\n",
       "    </tr>\n",
       "  </thead>\n",
       "  <tbody>\n",
       "    <tr>\n",
       "      <th>0</th>\n",
       "      <td>CIÊNCIA DA COMPUTAÇÃO</td>\n",
       "      <td>F</td>\n",
       "      <td>12</td>\n",
       "    </tr>\n",
       "    <tr>\n",
       "      <th>1</th>\n",
       "      <td>CIÊNCIA DA COMPUTAÇÃO</td>\n",
       "      <td>M</td>\n",
       "      <td>52</td>\n",
       "    </tr>\n",
       "    <tr>\n",
       "      <th>2</th>\n",
       "      <td>ENGENHARIA CIVIL</td>\n",
       "      <td>F</td>\n",
       "      <td>7</td>\n",
       "    </tr>\n",
       "    <tr>\n",
       "      <th>3</th>\n",
       "      <td>ENGENHARIA CIVIL</td>\n",
       "      <td>M</td>\n",
       "      <td>25</td>\n",
       "    </tr>\n",
       "    <tr>\n",
       "      <th>4</th>\n",
       "      <td>ENGENHARIA DE PRODUÇÃO</td>\n",
       "      <td>F</td>\n",
       "      <td>10</td>\n",
       "    </tr>\n",
       "    <tr>\n",
       "      <th>5</th>\n",
       "      <td>ENGENHARIA DE PRODUÇÃO</td>\n",
       "      <td>M</td>\n",
       "      <td>18</td>\n",
       "    </tr>\n",
       "    <tr>\n",
       "      <th>6</th>\n",
       "      <td>ENGENHARIA DE SOFTWARE</td>\n",
       "      <td>F</td>\n",
       "      <td>18</td>\n",
       "    </tr>\n",
       "    <tr>\n",
       "      <th>7</th>\n",
       "      <td>ENGENHARIA DE SOFTWARE</td>\n",
       "      <td>M</td>\n",
       "      <td>38</td>\n",
       "    </tr>\n",
       "    <tr>\n",
       "      <th>8</th>\n",
       "      <td>ENGENHARIA MECÂNICA</td>\n",
       "      <td>F</td>\n",
       "      <td>2</td>\n",
       "    </tr>\n",
       "    <tr>\n",
       "      <th>9</th>\n",
       "      <td>ENGENHARIA MECÂNICA</td>\n",
       "      <td>M</td>\n",
       "      <td>26</td>\n",
       "    </tr>\n",
       "  </tbody>\n",
       "</table>\n",
       "</div>"
      ],
      "text/plain": [
       "               nome_curso sexo  status\n",
       "0   CIÊNCIA DA COMPUTAÇÃO    F      12\n",
       "1   CIÊNCIA DA COMPUTAÇÃO    M      52\n",
       "2        ENGENHARIA CIVIL    F       7\n",
       "3        ENGENHARIA CIVIL    M      25\n",
       "4  ENGENHARIA DE PRODUÇÃO    F      10\n",
       "5  ENGENHARIA DE PRODUÇÃO    M      18\n",
       "6  ENGENHARIA DE SOFTWARE    F      18\n",
       "7  ENGENHARIA DE SOFTWARE    M      38\n",
       "8     ENGENHARIA MECÂNICA    F       2\n",
       "9     ENGENHARIA MECÂNICA    M      26"
      ]
     },
     "execution_count": 7,
     "metadata": {},
     "output_type": "execute_result"
    }
   ],
   "source": [
    "DataS = data.loc[\n",
    "    (data['ano_saida']=='2020') &\n",
    "    (data['nome_unidade'] == 'CAMPUS DA UFC DE RUSSAS') &\n",
    "    (data['status'] == 'CANCELADO')\n",
    "    ]\n",
    "\n",
    "DataS.groupby(\n",
    "    by=['nome_curso','sexo']\n",
    ")['status'].count().reset_index()"
   ]
  },
  {
   "cell_type": "code",
   "execution_count": 8,
   "metadata": {},
   "outputs": [
    {
     "name": "stderr",
     "output_type": "stream",
     "text": [
      "/tmp/ipykernel_8665/231384813.py:7: SettingWithCopyWarning: \n",
      "A value is trying to be set on a copy of a slice from a DataFrame\n",
      "\n",
      "See the caveats in the documentation: https://pandas.pydata.org/pandas-docs/stable/user_guide/indexing.html#returning-a-view-versus-a-copy\n",
      "  datac['modalidade_considerada'].loc[datac['modalidade_considerada'] == ' '] = 'Nenhuma'\n"
     ]
    },
    {
     "data": {
      "text/html": [
       "<div>\n",
       "<style scoped>\n",
       "    .dataframe tbody tr th:only-of-type {\n",
       "        vertical-align: middle;\n",
       "    }\n",
       "\n",
       "    .dataframe tbody tr th {\n",
       "        vertical-align: top;\n",
       "    }\n",
       "\n",
       "    .dataframe thead th {\n",
       "        text-align: right;\n",
       "    }\n",
       "</style>\n",
       "<table border=\"1\" class=\"dataframe\">\n",
       "  <thead>\n",
       "    <tr style=\"text-align: right;\">\n",
       "      <th></th>\n",
       "      <th>nome_curso</th>\n",
       "      <th>forma_ingresso</th>\n",
       "      <th>modalidade_considerada</th>\n",
       "      <th>status</th>\n",
       "    </tr>\n",
       "  </thead>\n",
       "  <tbody>\n",
       "    <tr>\n",
       "      <th>0</th>\n",
       "      <td>CIÊNCIA DA COMPUTAÇÃO</td>\n",
       "      <td>SELEÇÃO SISU</td>\n",
       "      <td>Nenhuma</td>\n",
       "      <td>7</td>\n",
       "    </tr>\n",
       "    <tr>\n",
       "      <th>1</th>\n",
       "      <td>CIÊNCIA DA COMPUTAÇÃO</td>\n",
       "      <td>SELEÇÃO SISU</td>\n",
       "      <td>AC</td>\n",
       "      <td>24</td>\n",
       "    </tr>\n",
       "    <tr>\n",
       "      <th>2</th>\n",
       "      <td>CIÊNCIA DA COMPUTAÇÃO</td>\n",
       "      <td>SELEÇÃO SISU</td>\n",
       "      <td>L1</td>\n",
       "      <td>5</td>\n",
       "    </tr>\n",
       "    <tr>\n",
       "      <th>3</th>\n",
       "      <td>CIÊNCIA DA COMPUTAÇÃO</td>\n",
       "      <td>SELEÇÃO SISU</td>\n",
       "      <td>L13</td>\n",
       "      <td>1</td>\n",
       "    </tr>\n",
       "    <tr>\n",
       "      <th>4</th>\n",
       "      <td>CIÊNCIA DA COMPUTAÇÃO</td>\n",
       "      <td>SELEÇÃO SISU</td>\n",
       "      <td>L2</td>\n",
       "      <td>12</td>\n",
       "    </tr>\n",
       "    <tr>\n",
       "      <th>5</th>\n",
       "      <td>CIÊNCIA DA COMPUTAÇÃO</td>\n",
       "      <td>SELEÇÃO SISU</td>\n",
       "      <td>L5</td>\n",
       "      <td>4</td>\n",
       "    </tr>\n",
       "    <tr>\n",
       "      <th>6</th>\n",
       "      <td>CIÊNCIA DA COMPUTAÇÃO</td>\n",
       "      <td>SELEÇÃO SISU</td>\n",
       "      <td>L6</td>\n",
       "      <td>9</td>\n",
       "    </tr>\n",
       "    <tr>\n",
       "      <th>7</th>\n",
       "      <td>CIÊNCIA DA COMPUTAÇÃO</td>\n",
       "      <td>SELEÇÃO SISU</td>\n",
       "      <td>L9</td>\n",
       "      <td>1</td>\n",
       "    </tr>\n",
       "    <tr>\n",
       "      <th>8</th>\n",
       "      <td>CIÊNCIA DA COMPUTAÇÃO</td>\n",
       "      <td>TRANSFERÊNCIA REGULAR</td>\n",
       "      <td>Nenhuma</td>\n",
       "      <td>1</td>\n",
       "    </tr>\n",
       "    <tr>\n",
       "      <th>9</th>\n",
       "      <td>ENGENHARIA CIVIL</td>\n",
       "      <td>SELEÇÃO SISU</td>\n",
       "      <td>Nenhuma</td>\n",
       "      <td>2</td>\n",
       "    </tr>\n",
       "    <tr>\n",
       "      <th>10</th>\n",
       "      <td>ENGENHARIA CIVIL</td>\n",
       "      <td>SELEÇÃO SISU</td>\n",
       "      <td>AC</td>\n",
       "      <td>16</td>\n",
       "    </tr>\n",
       "    <tr>\n",
       "      <th>11</th>\n",
       "      <td>ENGENHARIA CIVIL</td>\n",
       "      <td>SELEÇÃO SISU</td>\n",
       "      <td>L1</td>\n",
       "      <td>1</td>\n",
       "    </tr>\n",
       "    <tr>\n",
       "      <th>12</th>\n",
       "      <td>ENGENHARIA CIVIL</td>\n",
       "      <td>SELEÇÃO SISU</td>\n",
       "      <td>L2</td>\n",
       "      <td>6</td>\n",
       "    </tr>\n",
       "    <tr>\n",
       "      <th>13</th>\n",
       "      <td>ENGENHARIA CIVIL</td>\n",
       "      <td>SELEÇÃO SISU</td>\n",
       "      <td>L5</td>\n",
       "      <td>3</td>\n",
       "    </tr>\n",
       "    <tr>\n",
       "      <th>14</th>\n",
       "      <td>ENGENHARIA CIVIL</td>\n",
       "      <td>SELEÇÃO SISU</td>\n",
       "      <td>L6</td>\n",
       "      <td>4</td>\n",
       "    </tr>\n",
       "    <tr>\n",
       "      <th>15</th>\n",
       "      <td>ENGENHARIA DE PRODUÇÃO</td>\n",
       "      <td>SELEÇÃO SISU</td>\n",
       "      <td>Nenhuma</td>\n",
       "      <td>5</td>\n",
       "    </tr>\n",
       "    <tr>\n",
       "      <th>16</th>\n",
       "      <td>ENGENHARIA DE PRODUÇÃO</td>\n",
       "      <td>SELEÇÃO SISU</td>\n",
       "      <td>AC</td>\n",
       "      <td>13</td>\n",
       "    </tr>\n",
       "    <tr>\n",
       "      <th>17</th>\n",
       "      <td>ENGENHARIA DE PRODUÇÃO</td>\n",
       "      <td>SELEÇÃO SISU</td>\n",
       "      <td>L2</td>\n",
       "      <td>4</td>\n",
       "    </tr>\n",
       "    <tr>\n",
       "      <th>18</th>\n",
       "      <td>ENGENHARIA DE PRODUÇÃO</td>\n",
       "      <td>SELEÇÃO SISU</td>\n",
       "      <td>L6</td>\n",
       "      <td>6</td>\n",
       "    </tr>\n",
       "    <tr>\n",
       "      <th>19</th>\n",
       "      <td>ENGENHARIA DE SOFTWARE</td>\n",
       "      <td>SELEÇÃO SISU</td>\n",
       "      <td>Nenhuma</td>\n",
       "      <td>12</td>\n",
       "    </tr>\n",
       "    <tr>\n",
       "      <th>20</th>\n",
       "      <td>ENGENHARIA DE SOFTWARE</td>\n",
       "      <td>SELEÇÃO SISU</td>\n",
       "      <td>AC</td>\n",
       "      <td>19</td>\n",
       "    </tr>\n",
       "    <tr>\n",
       "      <th>21</th>\n",
       "      <td>ENGENHARIA DE SOFTWARE</td>\n",
       "      <td>SELEÇÃO SISU</td>\n",
       "      <td>L1</td>\n",
       "      <td>5</td>\n",
       "    </tr>\n",
       "    <tr>\n",
       "      <th>22</th>\n",
       "      <td>ENGENHARIA DE SOFTWARE</td>\n",
       "      <td>SELEÇÃO SISU</td>\n",
       "      <td>L10</td>\n",
       "      <td>1</td>\n",
       "    </tr>\n",
       "    <tr>\n",
       "      <th>23</th>\n",
       "      <td>ENGENHARIA DE SOFTWARE</td>\n",
       "      <td>SELEÇÃO SISU</td>\n",
       "      <td>L2</td>\n",
       "      <td>10</td>\n",
       "    </tr>\n",
       "    <tr>\n",
       "      <th>24</th>\n",
       "      <td>ENGENHARIA DE SOFTWARE</td>\n",
       "      <td>SELEÇÃO SISU</td>\n",
       "      <td>L5</td>\n",
       "      <td>2</td>\n",
       "    </tr>\n",
       "    <tr>\n",
       "      <th>25</th>\n",
       "      <td>ENGENHARIA DE SOFTWARE</td>\n",
       "      <td>SELEÇÃO SISU</td>\n",
       "      <td>L6</td>\n",
       "      <td>7</td>\n",
       "    </tr>\n",
       "    <tr>\n",
       "      <th>26</th>\n",
       "      <td>ENGENHARIA MECÂNICA</td>\n",
       "      <td>SELEÇÃO SISU</td>\n",
       "      <td>AC</td>\n",
       "      <td>16</td>\n",
       "    </tr>\n",
       "    <tr>\n",
       "      <th>27</th>\n",
       "      <td>ENGENHARIA MECÂNICA</td>\n",
       "      <td>SELEÇÃO SISU</td>\n",
       "      <td>L1</td>\n",
       "      <td>3</td>\n",
       "    </tr>\n",
       "    <tr>\n",
       "      <th>28</th>\n",
       "      <td>ENGENHARIA MECÂNICA</td>\n",
       "      <td>SELEÇÃO SISU</td>\n",
       "      <td>L2</td>\n",
       "      <td>3</td>\n",
       "    </tr>\n",
       "    <tr>\n",
       "      <th>29</th>\n",
       "      <td>ENGENHARIA MECÂNICA</td>\n",
       "      <td>SELEÇÃO SISU</td>\n",
       "      <td>L5</td>\n",
       "      <td>2</td>\n",
       "    </tr>\n",
       "    <tr>\n",
       "      <th>30</th>\n",
       "      <td>ENGENHARIA MECÂNICA</td>\n",
       "      <td>SELEÇÃO SISU</td>\n",
       "      <td>L6</td>\n",
       "      <td>4</td>\n",
       "    </tr>\n",
       "  </tbody>\n",
       "</table>\n",
       "</div>"
      ],
      "text/plain": [
       "                nome_curso         forma_ingresso modalidade_considerada  \\\n",
       "0    CIÊNCIA DA COMPUTAÇÃO           SELEÇÃO SISU                Nenhuma   \n",
       "1    CIÊNCIA DA COMPUTAÇÃO           SELEÇÃO SISU                     AC   \n",
       "2    CIÊNCIA DA COMPUTAÇÃO           SELEÇÃO SISU                     L1   \n",
       "3    CIÊNCIA DA COMPUTAÇÃO           SELEÇÃO SISU                    L13   \n",
       "4    CIÊNCIA DA COMPUTAÇÃO           SELEÇÃO SISU                     L2   \n",
       "5    CIÊNCIA DA COMPUTAÇÃO           SELEÇÃO SISU                     L5   \n",
       "6    CIÊNCIA DA COMPUTAÇÃO           SELEÇÃO SISU                     L6   \n",
       "7    CIÊNCIA DA COMPUTAÇÃO           SELEÇÃO SISU                     L9   \n",
       "8    CIÊNCIA DA COMPUTAÇÃO  TRANSFERÊNCIA REGULAR                Nenhuma   \n",
       "9         ENGENHARIA CIVIL           SELEÇÃO SISU                Nenhuma   \n",
       "10        ENGENHARIA CIVIL           SELEÇÃO SISU                     AC   \n",
       "11        ENGENHARIA CIVIL           SELEÇÃO SISU                     L1   \n",
       "12        ENGENHARIA CIVIL           SELEÇÃO SISU                     L2   \n",
       "13        ENGENHARIA CIVIL           SELEÇÃO SISU                     L5   \n",
       "14        ENGENHARIA CIVIL           SELEÇÃO SISU                     L6   \n",
       "15  ENGENHARIA DE PRODUÇÃO           SELEÇÃO SISU                Nenhuma   \n",
       "16  ENGENHARIA DE PRODUÇÃO           SELEÇÃO SISU                     AC   \n",
       "17  ENGENHARIA DE PRODUÇÃO           SELEÇÃO SISU                     L2   \n",
       "18  ENGENHARIA DE PRODUÇÃO           SELEÇÃO SISU                     L6   \n",
       "19  ENGENHARIA DE SOFTWARE           SELEÇÃO SISU                Nenhuma   \n",
       "20  ENGENHARIA DE SOFTWARE           SELEÇÃO SISU                     AC   \n",
       "21  ENGENHARIA DE SOFTWARE           SELEÇÃO SISU                     L1   \n",
       "22  ENGENHARIA DE SOFTWARE           SELEÇÃO SISU                    L10   \n",
       "23  ENGENHARIA DE SOFTWARE           SELEÇÃO SISU                     L2   \n",
       "24  ENGENHARIA DE SOFTWARE           SELEÇÃO SISU                     L5   \n",
       "25  ENGENHARIA DE SOFTWARE           SELEÇÃO SISU                     L6   \n",
       "26     ENGENHARIA MECÂNICA           SELEÇÃO SISU                     AC   \n",
       "27     ENGENHARIA MECÂNICA           SELEÇÃO SISU                     L1   \n",
       "28     ENGENHARIA MECÂNICA           SELEÇÃO SISU                     L2   \n",
       "29     ENGENHARIA MECÂNICA           SELEÇÃO SISU                     L5   \n",
       "30     ENGENHARIA MECÂNICA           SELEÇÃO SISU                     L6   \n",
       "\n",
       "    status  \n",
       "0        7  \n",
       "1       24  \n",
       "2        5  \n",
       "3        1  \n",
       "4       12  \n",
       "5        4  \n",
       "6        9  \n",
       "7        1  \n",
       "8        1  \n",
       "9        2  \n",
       "10      16  \n",
       "11       1  \n",
       "12       6  \n",
       "13       3  \n",
       "14       4  \n",
       "15       5  \n",
       "16      13  \n",
       "17       4  \n",
       "18       6  \n",
       "19      12  \n",
       "20      19  \n",
       "21       5  \n",
       "22       1  \n",
       "23      10  \n",
       "24       2  \n",
       "25       7  \n",
       "26      16  \n",
       "27       3  \n",
       "28       3  \n",
       "29       2  \n",
       "30       4  "
      ]
     },
     "execution_count": 8,
     "metadata": {},
     "output_type": "execute_result"
    }
   ],
   "source": [
    "datac = data.loc[(data['ano_saida']=='2020') &\n",
    "        (data['nome_unidade'] == 'CAMPUS DA UFC DE RUSSAS') &\n",
    "        (data['status'] == 'CANCELADO')]\n",
    "datac = datac.groupby(\n",
    "    by = ['nome_curso','forma_ingresso','modalidade_considerada']\n",
    ")['status'].count().reset_index()\n",
    "datac['modalidade_considerada'].loc[datac['modalidade_considerada'] == ' '] = 'Nenhuma'\n",
    "datac"
   ]
  },
  {
   "cell_type": "code",
   "execution_count": 9,
   "metadata": {},
   "outputs": [
    {
     "data": {
      "text/plain": [
       "modalidade_considerada\n",
       "       191484\n",
       "AC      21741\n",
       "L2       7451\n",
       "L6       7382\n",
       "L1       3185\n",
       "L5       2814\n",
       "L14       346\n",
       "L10       345\n",
       "L13       199\n",
       "L9        179\n",
       "Name: count, dtype: int64"
      ]
     },
     "execution_count": 9,
     "metadata": {},
     "output_type": "execute_result"
    }
   ],
   "source": [
    "data['modalidade_considerada'].value_counts()"
   ]
  },
  {
   "cell_type": "code",
   "execution_count": null,
   "metadata": {},
   "outputs": [],
   "source": []
  },
  {
   "cell_type": "code",
   "execution_count": 16,
   "metadata": {},
   "outputs": [
    {
     "data": {
      "text/html": [
       "<div>\n",
       "<style scoped>\n",
       "    .dataframe tbody tr th:only-of-type {\n",
       "        vertical-align: middle;\n",
       "    }\n",
       "\n",
       "    .dataframe tbody tr th {\n",
       "        vertical-align: top;\n",
       "    }\n",
       "\n",
       "    .dataframe thead th {\n",
       "        text-align: right;\n",
       "    }\n",
       "</style>\n",
       "<table border=\"1\" class=\"dataframe\">\n",
       "  <thead>\n",
       "    <tr style=\"text-align: right;\">\n",
       "      <th></th>\n",
       "      <th>ano_saida</th>\n",
       "      <th>status</th>\n",
       "    </tr>\n",
       "  </thead>\n",
       "  <tbody>\n",
       "    <tr>\n",
       "      <th>0</th>\n",
       "      <td>1971</td>\n",
       "      <td>1</td>\n",
       "    </tr>\n",
       "    <tr>\n",
       "      <th>1</th>\n",
       "      <td>1972</td>\n",
       "      <td>2</td>\n",
       "    </tr>\n",
       "    <tr>\n",
       "      <th>2</th>\n",
       "      <td>1974</td>\n",
       "      <td>1</td>\n",
       "    </tr>\n",
       "  </tbody>\n",
       "</table>\n",
       "</div>"
      ],
      "text/plain": [
       "  ano_saida  status\n",
       "0      1971       1\n",
       "1      1972       2\n",
       "2      1974       1"
      ]
     },
     "execution_count": 16,
     "metadata": {},
     "output_type": "execute_result"
    }
   ],
   "source": [
    "oui = data.loc[\n",
    "    (data['status']=='CANCELADO') &\n",
    "    (data['ano_saida'] != ' ')\n",
    "    ].groupby(by=['ano_saida'])['status'].count().reset_index()\n",
    "oui.head(3)"
   ]
  },
  {
   "cell_type": "code",
   "execution_count": 11,
   "metadata": {},
   "outputs": [],
   "source": [
    "import plotly.graph_objects as go"
   ]
  },
  {
   "cell_type": "code",
   "execution_count": 17,
   "metadata": {},
   "outputs": [
    {
     "ename": "ValueError",
     "evalue": "Mime type rendering requires nbformat>=4.2.0 but it is not installed",
     "output_type": "error",
     "traceback": [
      "\u001b[0;31m---------------------------------------------------------------------------\u001b[0m",
      "\u001b[0;31mValueError\u001b[0m                                Traceback (most recent call last)",
      "File \u001b[0;32m~/MEGA/Projetos/Dashboard-Streamlit/venv/lib/python3.11/site-packages/IPython/core/formatters.py:922\u001b[0m, in \u001b[0;36mIPythonDisplayFormatter.__call__\u001b[0;34m(self, obj)\u001b[0m\n\u001b[1;32m    920\u001b[0m method \u001b[39m=\u001b[39m get_real_method(obj, \u001b[39mself\u001b[39m\u001b[39m.\u001b[39mprint_method)\n\u001b[1;32m    921\u001b[0m \u001b[39mif\u001b[39;00m method \u001b[39mis\u001b[39;00m \u001b[39mnot\u001b[39;00m \u001b[39mNone\u001b[39;00m:\n\u001b[0;32m--> 922\u001b[0m     method()\n\u001b[1;32m    923\u001b[0m     \u001b[39mreturn\u001b[39;00m \u001b[39mTrue\u001b[39;00m\n",
      "File \u001b[0;32m~/MEGA/Projetos/Dashboard-Streamlit/venv/lib/python3.11/site-packages/plotly/basedatatypes.py:834\u001b[0m, in \u001b[0;36mBaseFigure._ipython_display_\u001b[0;34m(self)\u001b[0m\n\u001b[1;32m    831\u001b[0m \u001b[39mimport\u001b[39;00m \u001b[39mplotly\u001b[39;00m\u001b[39m.\u001b[39;00m\u001b[39mio\u001b[39;00m \u001b[39mas\u001b[39;00m \u001b[39mpio\u001b[39;00m\n\u001b[1;32m    833\u001b[0m \u001b[39mif\u001b[39;00m pio\u001b[39m.\u001b[39mrenderers\u001b[39m.\u001b[39mrender_on_display \u001b[39mand\u001b[39;00m pio\u001b[39m.\u001b[39mrenderers\u001b[39m.\u001b[39mdefault:\n\u001b[0;32m--> 834\u001b[0m     pio\u001b[39m.\u001b[39;49mshow(\u001b[39mself\u001b[39;49m)\n\u001b[1;32m    835\u001b[0m \u001b[39melse\u001b[39;00m:\n\u001b[1;32m    836\u001b[0m     \u001b[39mprint\u001b[39m(\u001b[39mrepr\u001b[39m(\u001b[39mself\u001b[39m))\n",
      "File \u001b[0;32m~/MEGA/Projetos/Dashboard-Streamlit/venv/lib/python3.11/site-packages/plotly/io/_renderers.py:396\u001b[0m, in \u001b[0;36mshow\u001b[0;34m(fig, renderer, validate, **kwargs)\u001b[0m\n\u001b[1;32m    391\u001b[0m         \u001b[39mraise\u001b[39;00m \u001b[39mValueError\u001b[39;00m(\n\u001b[1;32m    392\u001b[0m             \u001b[39m\"\u001b[39m\u001b[39mMime type rendering requires ipython but it is not installed\u001b[39m\u001b[39m\"\u001b[39m\n\u001b[1;32m    393\u001b[0m         )\n\u001b[1;32m    395\u001b[0m     \u001b[39mif\u001b[39;00m \u001b[39mnot\u001b[39;00m nbformat \u001b[39mor\u001b[39;00m Version(nbformat\u001b[39m.\u001b[39m__version__) \u001b[39m<\u001b[39m Version(\u001b[39m\"\u001b[39m\u001b[39m4.2.0\u001b[39m\u001b[39m\"\u001b[39m):\n\u001b[0;32m--> 396\u001b[0m         \u001b[39mraise\u001b[39;00m \u001b[39mValueError\u001b[39;00m(\n\u001b[1;32m    397\u001b[0m             \u001b[39m\"\u001b[39m\u001b[39mMime type rendering requires nbformat>=4.2.0 but it is not installed\u001b[39m\u001b[39m\"\u001b[39m\n\u001b[1;32m    398\u001b[0m         )\n\u001b[1;32m    400\u001b[0m     ipython_display\u001b[39m.\u001b[39mdisplay(bundle, raw\u001b[39m=\u001b[39m\u001b[39mTrue\u001b[39;00m)\n\u001b[1;32m    402\u001b[0m \u001b[39m# external renderers\u001b[39;00m\n",
      "\u001b[0;31mValueError\u001b[0m: Mime type rendering requires nbformat>=4.2.0 but it is not installed"
     ]
    },
    {
     "data": {
      "application/vnd.plotly.v1+json": {
       "config": {
        "plotlyServerURL": "https://plot.ly"
       },
       "data": [
        {
         "mode": "lines+markers",
         "type": "scatter",
         "x": [
          "1971",
          "1972",
          "1974",
          "1977",
          "1978",
          "1979",
          "1980",
          "1981",
          "1982",
          "1983",
          "1984",
          "1985",
          "1986",
          "1987",
          "1988",
          "1989",
          "1990",
          "1991",
          "1992",
          "1993",
          "1994",
          "1995",
          "1996",
          "1997",
          "1998",
          "1999",
          "2000",
          "2001",
          "2002",
          "2003",
          "2004",
          "2005",
          "2006",
          "2007",
          "2008",
          "2009",
          "2010",
          "2011",
          "2012",
          "2013",
          "2014",
          "2015",
          "2016",
          "2017",
          "2018",
          "2019",
          "2020",
          "2021",
          "2022",
          "2023"
         ],
         "y": [
          1,
          2,
          1,
          3,
          27,
          33,
          239,
          852,
          898,
          833,
          837,
          1089,
          1309,
          1289,
          1272,
          1304,
          948,
          720,
          3280,
          1865,
          941,
          1348,
          1271,
          1364,
          869,
          1540,
          1493,
          1536,
          1780,
          1451,
          1752,
          1855,
          1371,
          2569,
          2021,
          2811,
          2542,
          5372,
          5229,
          4877,
          5624,
          5598,
          5214,
          5018,
          8006,
          4471,
          4018,
          2452,
          6571,
          3203
         ]
        }
       ],
       "layout": {
        "template": {
         "data": {
          "bar": [
           {
            "error_x": {
             "color": "#2a3f5f"
            },
            "error_y": {
             "color": "#2a3f5f"
            },
            "marker": {
             "line": {
              "color": "#E5ECF6",
              "width": 0.5
             },
             "pattern": {
              "fillmode": "overlay",
              "size": 10,
              "solidity": 0.2
             }
            },
            "type": "bar"
           }
          ],
          "barpolar": [
           {
            "marker": {
             "line": {
              "color": "#E5ECF6",
              "width": 0.5
             },
             "pattern": {
              "fillmode": "overlay",
              "size": 10,
              "solidity": 0.2
             }
            },
            "type": "barpolar"
           }
          ],
          "carpet": [
           {
            "aaxis": {
             "endlinecolor": "#2a3f5f",
             "gridcolor": "white",
             "linecolor": "white",
             "minorgridcolor": "white",
             "startlinecolor": "#2a3f5f"
            },
            "baxis": {
             "endlinecolor": "#2a3f5f",
             "gridcolor": "white",
             "linecolor": "white",
             "minorgridcolor": "white",
             "startlinecolor": "#2a3f5f"
            },
            "type": "carpet"
           }
          ],
          "choropleth": [
           {
            "colorbar": {
             "outlinewidth": 0,
             "ticks": ""
            },
            "type": "choropleth"
           }
          ],
          "contour": [
           {
            "colorbar": {
             "outlinewidth": 0,
             "ticks": ""
            },
            "colorscale": [
             [
              0,
              "#0d0887"
             ],
             [
              0.1111111111111111,
              "#46039f"
             ],
             [
              0.2222222222222222,
              "#7201a8"
             ],
             [
              0.3333333333333333,
              "#9c179e"
             ],
             [
              0.4444444444444444,
              "#bd3786"
             ],
             [
              0.5555555555555556,
              "#d8576b"
             ],
             [
              0.6666666666666666,
              "#ed7953"
             ],
             [
              0.7777777777777778,
              "#fb9f3a"
             ],
             [
              0.8888888888888888,
              "#fdca26"
             ],
             [
              1,
              "#f0f921"
             ]
            ],
            "type": "contour"
           }
          ],
          "contourcarpet": [
           {
            "colorbar": {
             "outlinewidth": 0,
             "ticks": ""
            },
            "type": "contourcarpet"
           }
          ],
          "heatmap": [
           {
            "colorbar": {
             "outlinewidth": 0,
             "ticks": ""
            },
            "colorscale": [
             [
              0,
              "#0d0887"
             ],
             [
              0.1111111111111111,
              "#46039f"
             ],
             [
              0.2222222222222222,
              "#7201a8"
             ],
             [
              0.3333333333333333,
              "#9c179e"
             ],
             [
              0.4444444444444444,
              "#bd3786"
             ],
             [
              0.5555555555555556,
              "#d8576b"
             ],
             [
              0.6666666666666666,
              "#ed7953"
             ],
             [
              0.7777777777777778,
              "#fb9f3a"
             ],
             [
              0.8888888888888888,
              "#fdca26"
             ],
             [
              1,
              "#f0f921"
             ]
            ],
            "type": "heatmap"
           }
          ],
          "heatmapgl": [
           {
            "colorbar": {
             "outlinewidth": 0,
             "ticks": ""
            },
            "colorscale": [
             [
              0,
              "#0d0887"
             ],
             [
              0.1111111111111111,
              "#46039f"
             ],
             [
              0.2222222222222222,
              "#7201a8"
             ],
             [
              0.3333333333333333,
              "#9c179e"
             ],
             [
              0.4444444444444444,
              "#bd3786"
             ],
             [
              0.5555555555555556,
              "#d8576b"
             ],
             [
              0.6666666666666666,
              "#ed7953"
             ],
             [
              0.7777777777777778,
              "#fb9f3a"
             ],
             [
              0.8888888888888888,
              "#fdca26"
             ],
             [
              1,
              "#f0f921"
             ]
            ],
            "type": "heatmapgl"
           }
          ],
          "histogram": [
           {
            "marker": {
             "pattern": {
              "fillmode": "overlay",
              "size": 10,
              "solidity": 0.2
             }
            },
            "type": "histogram"
           }
          ],
          "histogram2d": [
           {
            "colorbar": {
             "outlinewidth": 0,
             "ticks": ""
            },
            "colorscale": [
             [
              0,
              "#0d0887"
             ],
             [
              0.1111111111111111,
              "#46039f"
             ],
             [
              0.2222222222222222,
              "#7201a8"
             ],
             [
              0.3333333333333333,
              "#9c179e"
             ],
             [
              0.4444444444444444,
              "#bd3786"
             ],
             [
              0.5555555555555556,
              "#d8576b"
             ],
             [
              0.6666666666666666,
              "#ed7953"
             ],
             [
              0.7777777777777778,
              "#fb9f3a"
             ],
             [
              0.8888888888888888,
              "#fdca26"
             ],
             [
              1,
              "#f0f921"
             ]
            ],
            "type": "histogram2d"
           }
          ],
          "histogram2dcontour": [
           {
            "colorbar": {
             "outlinewidth": 0,
             "ticks": ""
            },
            "colorscale": [
             [
              0,
              "#0d0887"
             ],
             [
              0.1111111111111111,
              "#46039f"
             ],
             [
              0.2222222222222222,
              "#7201a8"
             ],
             [
              0.3333333333333333,
              "#9c179e"
             ],
             [
              0.4444444444444444,
              "#bd3786"
             ],
             [
              0.5555555555555556,
              "#d8576b"
             ],
             [
              0.6666666666666666,
              "#ed7953"
             ],
             [
              0.7777777777777778,
              "#fb9f3a"
             ],
             [
              0.8888888888888888,
              "#fdca26"
             ],
             [
              1,
              "#f0f921"
             ]
            ],
            "type": "histogram2dcontour"
           }
          ],
          "mesh3d": [
           {
            "colorbar": {
             "outlinewidth": 0,
             "ticks": ""
            },
            "type": "mesh3d"
           }
          ],
          "parcoords": [
           {
            "line": {
             "colorbar": {
              "outlinewidth": 0,
              "ticks": ""
             }
            },
            "type": "parcoords"
           }
          ],
          "pie": [
           {
            "automargin": true,
            "type": "pie"
           }
          ],
          "scatter": [
           {
            "fillpattern": {
             "fillmode": "overlay",
             "size": 10,
             "solidity": 0.2
            },
            "type": "scatter"
           }
          ],
          "scatter3d": [
           {
            "line": {
             "colorbar": {
              "outlinewidth": 0,
              "ticks": ""
             }
            },
            "marker": {
             "colorbar": {
              "outlinewidth": 0,
              "ticks": ""
             }
            },
            "type": "scatter3d"
           }
          ],
          "scattercarpet": [
           {
            "marker": {
             "colorbar": {
              "outlinewidth": 0,
              "ticks": ""
             }
            },
            "type": "scattercarpet"
           }
          ],
          "scattergeo": [
           {
            "marker": {
             "colorbar": {
              "outlinewidth": 0,
              "ticks": ""
             }
            },
            "type": "scattergeo"
           }
          ],
          "scattergl": [
           {
            "marker": {
             "colorbar": {
              "outlinewidth": 0,
              "ticks": ""
             }
            },
            "type": "scattergl"
           }
          ],
          "scattermapbox": [
           {
            "marker": {
             "colorbar": {
              "outlinewidth": 0,
              "ticks": ""
             }
            },
            "type": "scattermapbox"
           }
          ],
          "scatterpolar": [
           {
            "marker": {
             "colorbar": {
              "outlinewidth": 0,
              "ticks": ""
             }
            },
            "type": "scatterpolar"
           }
          ],
          "scatterpolargl": [
           {
            "marker": {
             "colorbar": {
              "outlinewidth": 0,
              "ticks": ""
             }
            },
            "type": "scatterpolargl"
           }
          ],
          "scatterternary": [
           {
            "marker": {
             "colorbar": {
              "outlinewidth": 0,
              "ticks": ""
             }
            },
            "type": "scatterternary"
           }
          ],
          "surface": [
           {
            "colorbar": {
             "outlinewidth": 0,
             "ticks": ""
            },
            "colorscale": [
             [
              0,
              "#0d0887"
             ],
             [
              0.1111111111111111,
              "#46039f"
             ],
             [
              0.2222222222222222,
              "#7201a8"
             ],
             [
              0.3333333333333333,
              "#9c179e"
             ],
             [
              0.4444444444444444,
              "#bd3786"
             ],
             [
              0.5555555555555556,
              "#d8576b"
             ],
             [
              0.6666666666666666,
              "#ed7953"
             ],
             [
              0.7777777777777778,
              "#fb9f3a"
             ],
             [
              0.8888888888888888,
              "#fdca26"
             ],
             [
              1,
              "#f0f921"
             ]
            ],
            "type": "surface"
           }
          ],
          "table": [
           {
            "cells": {
             "fill": {
              "color": "#EBF0F8"
             },
             "line": {
              "color": "white"
             }
            },
            "header": {
             "fill": {
              "color": "#C8D4E3"
             },
             "line": {
              "color": "white"
             }
            },
            "type": "table"
           }
          ]
         },
         "layout": {
          "annotationdefaults": {
           "arrowcolor": "#2a3f5f",
           "arrowhead": 0,
           "arrowwidth": 1
          },
          "autotypenumbers": "strict",
          "coloraxis": {
           "colorbar": {
            "outlinewidth": 0,
            "ticks": ""
           }
          },
          "colorscale": {
           "diverging": [
            [
             0,
             "#8e0152"
            ],
            [
             0.1,
             "#c51b7d"
            ],
            [
             0.2,
             "#de77ae"
            ],
            [
             0.3,
             "#f1b6da"
            ],
            [
             0.4,
             "#fde0ef"
            ],
            [
             0.5,
             "#f7f7f7"
            ],
            [
             0.6,
             "#e6f5d0"
            ],
            [
             0.7,
             "#b8e186"
            ],
            [
             0.8,
             "#7fbc41"
            ],
            [
             0.9,
             "#4d9221"
            ],
            [
             1,
             "#276419"
            ]
           ],
           "sequential": [
            [
             0,
             "#0d0887"
            ],
            [
             0.1111111111111111,
             "#46039f"
            ],
            [
             0.2222222222222222,
             "#7201a8"
            ],
            [
             0.3333333333333333,
             "#9c179e"
            ],
            [
             0.4444444444444444,
             "#bd3786"
            ],
            [
             0.5555555555555556,
             "#d8576b"
            ],
            [
             0.6666666666666666,
             "#ed7953"
            ],
            [
             0.7777777777777778,
             "#fb9f3a"
            ],
            [
             0.8888888888888888,
             "#fdca26"
            ],
            [
             1,
             "#f0f921"
            ]
           ],
           "sequentialminus": [
            [
             0,
             "#0d0887"
            ],
            [
             0.1111111111111111,
             "#46039f"
            ],
            [
             0.2222222222222222,
             "#7201a8"
            ],
            [
             0.3333333333333333,
             "#9c179e"
            ],
            [
             0.4444444444444444,
             "#bd3786"
            ],
            [
             0.5555555555555556,
             "#d8576b"
            ],
            [
             0.6666666666666666,
             "#ed7953"
            ],
            [
             0.7777777777777778,
             "#fb9f3a"
            ],
            [
             0.8888888888888888,
             "#fdca26"
            ],
            [
             1,
             "#f0f921"
            ]
           ]
          },
          "colorway": [
           "#636efa",
           "#EF553B",
           "#00cc96",
           "#ab63fa",
           "#FFA15A",
           "#19d3f3",
           "#FF6692",
           "#B6E880",
           "#FF97FF",
           "#FECB52"
          ],
          "font": {
           "color": "#2a3f5f"
          },
          "geo": {
           "bgcolor": "white",
           "lakecolor": "white",
           "landcolor": "#E5ECF6",
           "showlakes": true,
           "showland": true,
           "subunitcolor": "white"
          },
          "hoverlabel": {
           "align": "left"
          },
          "hovermode": "closest",
          "mapbox": {
           "style": "light"
          },
          "paper_bgcolor": "white",
          "plot_bgcolor": "#E5ECF6",
          "polar": {
           "angularaxis": {
            "gridcolor": "white",
            "linecolor": "white",
            "ticks": ""
           },
           "bgcolor": "#E5ECF6",
           "radialaxis": {
            "gridcolor": "white",
            "linecolor": "white",
            "ticks": ""
           }
          },
          "scene": {
           "xaxis": {
            "backgroundcolor": "#E5ECF6",
            "gridcolor": "white",
            "gridwidth": 2,
            "linecolor": "white",
            "showbackground": true,
            "ticks": "",
            "zerolinecolor": "white"
           },
           "yaxis": {
            "backgroundcolor": "#E5ECF6",
            "gridcolor": "white",
            "gridwidth": 2,
            "linecolor": "white",
            "showbackground": true,
            "ticks": "",
            "zerolinecolor": "white"
           },
           "zaxis": {
            "backgroundcolor": "#E5ECF6",
            "gridcolor": "white",
            "gridwidth": 2,
            "linecolor": "white",
            "showbackground": true,
            "ticks": "",
            "zerolinecolor": "white"
           }
          },
          "shapedefaults": {
           "line": {
            "color": "#2a3f5f"
           }
          },
          "ternary": {
           "aaxis": {
            "gridcolor": "white",
            "linecolor": "white",
            "ticks": ""
           },
           "baxis": {
            "gridcolor": "white",
            "linecolor": "white",
            "ticks": ""
           },
           "bgcolor": "#E5ECF6",
           "caxis": {
            "gridcolor": "white",
            "linecolor": "white",
            "ticks": ""
           }
          },
          "title": {
           "x": 0.05
          },
          "xaxis": {
           "automargin": true,
           "gridcolor": "white",
           "linecolor": "white",
           "ticks": "",
           "title": {
            "standoff": 15
           },
           "zerolinecolor": "white",
           "zerolinewidth": 2
          },
          "yaxis": {
           "automargin": true,
           "gridcolor": "white",
           "linecolor": "white",
           "ticks": "",
           "title": {
            "standoff": 15
           },
           "zerolinecolor": "white",
           "zerolinewidth": 2
          }
         }
        }
       }
      },
      "text/html": [
       "<div>                        <script type=\"text/javascript\">window.PlotlyConfig = {MathJaxConfig: 'local'};</script>\n",
       "        <script charset=\"utf-8\" src=\"https://cdn.plot.ly/plotly-2.24.1.min.js\"></script>                <div id=\"1218a4d2-ea1f-479f-afdf-fb58a5952092\" class=\"plotly-graph-div\" style=\"height:100%; width:100%;\"></div>            <script type=\"text/javascript\">                                    window.PLOTLYENV=window.PLOTLYENV || {};                                    if (document.getElementById(\"1218a4d2-ea1f-479f-afdf-fb58a5952092\")) {                    Plotly.newPlot(                        \"1218a4d2-ea1f-479f-afdf-fb58a5952092\",                        [{\"mode\":\"lines+markers\",\"x\":[\"1971\",\"1972\",\"1974\",\"1977\",\"1978\",\"1979\",\"1980\",\"1981\",\"1982\",\"1983\",\"1984\",\"1985\",\"1986\",\"1987\",\"1988\",\"1989\",\"1990\",\"1991\",\"1992\",\"1993\",\"1994\",\"1995\",\"1996\",\"1997\",\"1998\",\"1999\",\"2000\",\"2001\",\"2002\",\"2003\",\"2004\",\"2005\",\"2006\",\"2007\",\"2008\",\"2009\",\"2010\",\"2011\",\"2012\",\"2013\",\"2014\",\"2015\",\"2016\",\"2017\",\"2018\",\"2019\",\"2020\",\"2021\",\"2022\",\"2023\"],\"y\":[1,2,1,3,27,33,239,852,898,833,837,1089,1309,1289,1272,1304,948,720,3280,1865,941,1348,1271,1364,869,1540,1493,1536,1780,1451,1752,1855,1371,2569,2021,2811,2542,5372,5229,4877,5624,5598,5214,5018,8006,4471,4018,2452,6571,3203],\"type\":\"scatter\"}],                        {\"template\":{\"data\":{\"histogram2dcontour\":[{\"type\":\"histogram2dcontour\",\"colorbar\":{\"outlinewidth\":0,\"ticks\":\"\"},\"colorscale\":[[0.0,\"#0d0887\"],[0.1111111111111111,\"#46039f\"],[0.2222222222222222,\"#7201a8\"],[0.3333333333333333,\"#9c179e\"],[0.4444444444444444,\"#bd3786\"],[0.5555555555555556,\"#d8576b\"],[0.6666666666666666,\"#ed7953\"],[0.7777777777777778,\"#fb9f3a\"],[0.8888888888888888,\"#fdca26\"],[1.0,\"#f0f921\"]]}],\"choropleth\":[{\"type\":\"choropleth\",\"colorbar\":{\"outlinewidth\":0,\"ticks\":\"\"}}],\"histogram2d\":[{\"type\":\"histogram2d\",\"colorbar\":{\"outlinewidth\":0,\"ticks\":\"\"},\"colorscale\":[[0.0,\"#0d0887\"],[0.1111111111111111,\"#46039f\"],[0.2222222222222222,\"#7201a8\"],[0.3333333333333333,\"#9c179e\"],[0.4444444444444444,\"#bd3786\"],[0.5555555555555556,\"#d8576b\"],[0.6666666666666666,\"#ed7953\"],[0.7777777777777778,\"#fb9f3a\"],[0.8888888888888888,\"#fdca26\"],[1.0,\"#f0f921\"]]}],\"heatmap\":[{\"type\":\"heatmap\",\"colorbar\":{\"outlinewidth\":0,\"ticks\":\"\"},\"colorscale\":[[0.0,\"#0d0887\"],[0.1111111111111111,\"#46039f\"],[0.2222222222222222,\"#7201a8\"],[0.3333333333333333,\"#9c179e\"],[0.4444444444444444,\"#bd3786\"],[0.5555555555555556,\"#d8576b\"],[0.6666666666666666,\"#ed7953\"],[0.7777777777777778,\"#fb9f3a\"],[0.8888888888888888,\"#fdca26\"],[1.0,\"#f0f921\"]]}],\"heatmapgl\":[{\"type\":\"heatmapgl\",\"colorbar\":{\"outlinewidth\":0,\"ticks\":\"\"},\"colorscale\":[[0.0,\"#0d0887\"],[0.1111111111111111,\"#46039f\"],[0.2222222222222222,\"#7201a8\"],[0.3333333333333333,\"#9c179e\"],[0.4444444444444444,\"#bd3786\"],[0.5555555555555556,\"#d8576b\"],[0.6666666666666666,\"#ed7953\"],[0.7777777777777778,\"#fb9f3a\"],[0.8888888888888888,\"#fdca26\"],[1.0,\"#f0f921\"]]}],\"contourcarpet\":[{\"type\":\"contourcarpet\",\"colorbar\":{\"outlinewidth\":0,\"ticks\":\"\"}}],\"contour\":[{\"type\":\"contour\",\"colorbar\":{\"outlinewidth\":0,\"ticks\":\"\"},\"colorscale\":[[0.0,\"#0d0887\"],[0.1111111111111111,\"#46039f\"],[0.2222222222222222,\"#7201a8\"],[0.3333333333333333,\"#9c179e\"],[0.4444444444444444,\"#bd3786\"],[0.5555555555555556,\"#d8576b\"],[0.6666666666666666,\"#ed7953\"],[0.7777777777777778,\"#fb9f3a\"],[0.8888888888888888,\"#fdca26\"],[1.0,\"#f0f921\"]]}],\"surface\":[{\"type\":\"surface\",\"colorbar\":{\"outlinewidth\":0,\"ticks\":\"\"},\"colorscale\":[[0.0,\"#0d0887\"],[0.1111111111111111,\"#46039f\"],[0.2222222222222222,\"#7201a8\"],[0.3333333333333333,\"#9c179e\"],[0.4444444444444444,\"#bd3786\"],[0.5555555555555556,\"#d8576b\"],[0.6666666666666666,\"#ed7953\"],[0.7777777777777778,\"#fb9f3a\"],[0.8888888888888888,\"#fdca26\"],[1.0,\"#f0f921\"]]}],\"mesh3d\":[{\"type\":\"mesh3d\",\"colorbar\":{\"outlinewidth\":0,\"ticks\":\"\"}}],\"scatter\":[{\"fillpattern\":{\"fillmode\":\"overlay\",\"size\":10,\"solidity\":0.2},\"type\":\"scatter\"}],\"parcoords\":[{\"type\":\"parcoords\",\"line\":{\"colorbar\":{\"outlinewidth\":0,\"ticks\":\"\"}}}],\"scatterpolargl\":[{\"type\":\"scatterpolargl\",\"marker\":{\"colorbar\":{\"outlinewidth\":0,\"ticks\":\"\"}}}],\"bar\":[{\"error_x\":{\"color\":\"#2a3f5f\"},\"error_y\":{\"color\":\"#2a3f5f\"},\"marker\":{\"line\":{\"color\":\"#E5ECF6\",\"width\":0.5},\"pattern\":{\"fillmode\":\"overlay\",\"size\":10,\"solidity\":0.2}},\"type\":\"bar\"}],\"scattergeo\":[{\"type\":\"scattergeo\",\"marker\":{\"colorbar\":{\"outlinewidth\":0,\"ticks\":\"\"}}}],\"scatterpolar\":[{\"type\":\"scatterpolar\",\"marker\":{\"colorbar\":{\"outlinewidth\":0,\"ticks\":\"\"}}}],\"histogram\":[{\"marker\":{\"pattern\":{\"fillmode\":\"overlay\",\"size\":10,\"solidity\":0.2}},\"type\":\"histogram\"}],\"scattergl\":[{\"type\":\"scattergl\",\"marker\":{\"colorbar\":{\"outlinewidth\":0,\"ticks\":\"\"}}}],\"scatter3d\":[{\"type\":\"scatter3d\",\"line\":{\"colorbar\":{\"outlinewidth\":0,\"ticks\":\"\"}},\"marker\":{\"colorbar\":{\"outlinewidth\":0,\"ticks\":\"\"}}}],\"scattermapbox\":[{\"type\":\"scattermapbox\",\"marker\":{\"colorbar\":{\"outlinewidth\":0,\"ticks\":\"\"}}}],\"scatterternary\":[{\"type\":\"scatterternary\",\"marker\":{\"colorbar\":{\"outlinewidth\":0,\"ticks\":\"\"}}}],\"scattercarpet\":[{\"type\":\"scattercarpet\",\"marker\":{\"colorbar\":{\"outlinewidth\":0,\"ticks\":\"\"}}}],\"carpet\":[{\"aaxis\":{\"endlinecolor\":\"#2a3f5f\",\"gridcolor\":\"white\",\"linecolor\":\"white\",\"minorgridcolor\":\"white\",\"startlinecolor\":\"#2a3f5f\"},\"baxis\":{\"endlinecolor\":\"#2a3f5f\",\"gridcolor\":\"white\",\"linecolor\":\"white\",\"minorgridcolor\":\"white\",\"startlinecolor\":\"#2a3f5f\"},\"type\":\"carpet\"}],\"table\":[{\"cells\":{\"fill\":{\"color\":\"#EBF0F8\"},\"line\":{\"color\":\"white\"}},\"header\":{\"fill\":{\"color\":\"#C8D4E3\"},\"line\":{\"color\":\"white\"}},\"type\":\"table\"}],\"barpolar\":[{\"marker\":{\"line\":{\"color\":\"#E5ECF6\",\"width\":0.5},\"pattern\":{\"fillmode\":\"overlay\",\"size\":10,\"solidity\":0.2}},\"type\":\"barpolar\"}],\"pie\":[{\"automargin\":true,\"type\":\"pie\"}]},\"layout\":{\"autotypenumbers\":\"strict\",\"colorway\":[\"#636efa\",\"#EF553B\",\"#00cc96\",\"#ab63fa\",\"#FFA15A\",\"#19d3f3\",\"#FF6692\",\"#B6E880\",\"#FF97FF\",\"#FECB52\"],\"font\":{\"color\":\"#2a3f5f\"},\"hovermode\":\"closest\",\"hoverlabel\":{\"align\":\"left\"},\"paper_bgcolor\":\"white\",\"plot_bgcolor\":\"#E5ECF6\",\"polar\":{\"bgcolor\":\"#E5ECF6\",\"angularaxis\":{\"gridcolor\":\"white\",\"linecolor\":\"white\",\"ticks\":\"\"},\"radialaxis\":{\"gridcolor\":\"white\",\"linecolor\":\"white\",\"ticks\":\"\"}},\"ternary\":{\"bgcolor\":\"#E5ECF6\",\"aaxis\":{\"gridcolor\":\"white\",\"linecolor\":\"white\",\"ticks\":\"\"},\"baxis\":{\"gridcolor\":\"white\",\"linecolor\":\"white\",\"ticks\":\"\"},\"caxis\":{\"gridcolor\":\"white\",\"linecolor\":\"white\",\"ticks\":\"\"}},\"coloraxis\":{\"colorbar\":{\"outlinewidth\":0,\"ticks\":\"\"}},\"colorscale\":{\"sequential\":[[0.0,\"#0d0887\"],[0.1111111111111111,\"#46039f\"],[0.2222222222222222,\"#7201a8\"],[0.3333333333333333,\"#9c179e\"],[0.4444444444444444,\"#bd3786\"],[0.5555555555555556,\"#d8576b\"],[0.6666666666666666,\"#ed7953\"],[0.7777777777777778,\"#fb9f3a\"],[0.8888888888888888,\"#fdca26\"],[1.0,\"#f0f921\"]],\"sequentialminus\":[[0.0,\"#0d0887\"],[0.1111111111111111,\"#46039f\"],[0.2222222222222222,\"#7201a8\"],[0.3333333333333333,\"#9c179e\"],[0.4444444444444444,\"#bd3786\"],[0.5555555555555556,\"#d8576b\"],[0.6666666666666666,\"#ed7953\"],[0.7777777777777778,\"#fb9f3a\"],[0.8888888888888888,\"#fdca26\"],[1.0,\"#f0f921\"]],\"diverging\":[[0,\"#8e0152\"],[0.1,\"#c51b7d\"],[0.2,\"#de77ae\"],[0.3,\"#f1b6da\"],[0.4,\"#fde0ef\"],[0.5,\"#f7f7f7\"],[0.6,\"#e6f5d0\"],[0.7,\"#b8e186\"],[0.8,\"#7fbc41\"],[0.9,\"#4d9221\"],[1,\"#276419\"]]},\"xaxis\":{\"gridcolor\":\"white\",\"linecolor\":\"white\",\"ticks\":\"\",\"title\":{\"standoff\":15},\"zerolinecolor\":\"white\",\"automargin\":true,\"zerolinewidth\":2},\"yaxis\":{\"gridcolor\":\"white\",\"linecolor\":\"white\",\"ticks\":\"\",\"title\":{\"standoff\":15},\"zerolinecolor\":\"white\",\"automargin\":true,\"zerolinewidth\":2},\"scene\":{\"xaxis\":{\"backgroundcolor\":\"#E5ECF6\",\"gridcolor\":\"white\",\"linecolor\":\"white\",\"showbackground\":true,\"ticks\":\"\",\"zerolinecolor\":\"white\",\"gridwidth\":2},\"yaxis\":{\"backgroundcolor\":\"#E5ECF6\",\"gridcolor\":\"white\",\"linecolor\":\"white\",\"showbackground\":true,\"ticks\":\"\",\"zerolinecolor\":\"white\",\"gridwidth\":2},\"zaxis\":{\"backgroundcolor\":\"#E5ECF6\",\"gridcolor\":\"white\",\"linecolor\":\"white\",\"showbackground\":true,\"ticks\":\"\",\"zerolinecolor\":\"white\",\"gridwidth\":2}},\"shapedefaults\":{\"line\":{\"color\":\"#2a3f5f\"}},\"annotationdefaults\":{\"arrowcolor\":\"#2a3f5f\",\"arrowhead\":0,\"arrowwidth\":1},\"geo\":{\"bgcolor\":\"white\",\"landcolor\":\"#E5ECF6\",\"subunitcolor\":\"white\",\"showland\":true,\"showlakes\":true,\"lakecolor\":\"white\"},\"title\":{\"x\":0.05},\"mapbox\":{\"style\":\"light\"}}}},                        {\"responsive\": true}                    )                };                            </script>        </div>"
      ],
      "text/plain": [
       "Figure({\n",
       "    'data': [{'mode': 'lines+markers',\n",
       "              'type': 'scatter',\n",
       "              'x': array(['1971', '1972', '1974', '1977', '1978', '1979', '1980', '1981', '1982',\n",
       "                          '1983', '1984', '1985', '1986', '1987', '1988', '1989', '1990', '1991',\n",
       "                          '1992', '1993', '1994', '1995', '1996', '1997', '1998', '1999', '2000',\n",
       "                          '2001', '2002', '2003', '2004', '2005', '2006', '2007', '2008', '2009',\n",
       "                          '2010', '2011', '2012', '2013', '2014', '2015', '2016', '2017', '2018',\n",
       "                          '2019', '2020', '2021', '2022', '2023'], dtype=object),\n",
       "              'y': array([   1,    2,    1,    3,   27,   33,  239,  852,  898,  833,  837, 1089,\n",
       "                          1309, 1289, 1272, 1304,  948,  720, 3280, 1865,  941, 1348, 1271, 1364,\n",
       "                           869, 1540, 1493, 1536, 1780, 1451, 1752, 1855, 1371, 2569, 2021, 2811,\n",
       "                          2542, 5372, 5229, 4877, 5624, 5598, 5214, 5018, 8006, 4471, 4018, 2452,\n",
       "                          6571, 3203])}],\n",
       "    'layout': {'template': '...'}\n",
       "})"
      ]
     },
     "execution_count": 17,
     "metadata": {},
     "output_type": "execute_result"
    }
   ],
   "source": [
    "fig = go.Figure()\n",
    "fig.add_trace(\n",
    "    go.Scatter(\n",
    "        x = oui['ano_saida'],\n",
    "        y = oui['status'],\n",
    "        mode='lines+markers'\n",
    "    )\n",
    ")\n"
   ]
  }
 ],
 "metadata": {
  "kernelspec": {
   "display_name": "venv",
   "language": "python",
   "name": "python3"
  },
  "language_info": {
   "codemirror_mode": {
    "name": "ipython",
    "version": 3
   },
   "file_extension": ".py",
   "mimetype": "text/x-python",
   "name": "python",
   "nbconvert_exporter": "python",
   "pygments_lexer": "ipython3",
   "version": "3.11.2"
  },
  "orig_nbformat": 4
 },
 "nbformat": 4,
 "nbformat_minor": 2
}
